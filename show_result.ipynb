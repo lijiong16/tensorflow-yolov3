{
 "cells": [
  {
   "cell_type": "code",
   "execution_count": 1,
   "metadata": {},
   "outputs": [],
   "source": [
    "import os\n",
    "import sys\n",
    "import numpy as np\n",
    "from core.config import cfg\n",
    "import matplotlib.pyplot as plt\n",
    "import pdb\n",
    "p=pdb.set_trace\n",
    "import core.utils as utils\n",
    "np.set_printoptions(suppress=True)\n",
    "root_dir='/home/lijiong/Github/tensorflow-yolov3/'\n",
    "save_dir=root_dir+'show_result/'\n",
    "if os.path.isdir(save_dir) == False:\n",
    "    os.mkdir(save_dir)\n",
    "\n",
    "\n",
    "annot_path= cfg.TEST.ANNOT_PATH \n",
    "img_dir='/home/lijiong/Github/PyTorch-YOLOv3/data/images/'+'val2017/'\n",
    "with open(annot_path, 'r') as annotation_file:\n",
    "    for i, line in enumerate(annotation_file):\n",
    "        if os.path.exists(root_dir+\"mAP/predicted/%d.txt\"%i):\n",
    "            annotation = line.strip().split()\n",
    "            image_path = annotation[0]\n",
    "            image=plt.imread(image_path)\n",
    "        \n",
    "            \n",
    "            bbox_gt = np.array([list(map(float, box.split(','))) for box in annotation[1:]]).astype(int)\n",
    "            bbox_gt=[np.append(box,box[4]) for box in bbox_gt]\n",
    "            bbox_gt=[box+[0,0,0,0,2,0] for box in bbox_gt]\n",
    "                #box=np.append(box,box[4])\n",
    "            #print(np.array(bbox_gt))\n",
    "            image = utils.draw_bbox(image, bbox_gt, show_label=True,use_color=(100, 100, 100))\n",
    "            plt.imsave(save_dir+'%d.jpg'%i,image)\n",
    "            #print(\"----------------------------------------------------------------\")\n",
    "            bbox_pr=[]\n",
    "            f=open(root_dir+\"mAP/predicted/%d.txt\"%i)\n",
    "            for line in f:\n",
    "                tmp=line.split()[2:]\n",
    "                pr_score=float(line.split()[1])\n",
    "                tmp=np.array(tmp).astype(int)\n",
    "                tmp=np.append(tmp,pr_score)\n",
    "                tmp=np.append(tmp,0)        #here need to be update if use more classes \\\n",
    "                bbox_pr.append(tmp)\n",
    "            #print(np.array(bbox_pr))\n",
    "            image = utils.draw_bbox(image, bbox_pr, show_label=True,use_color=0)\n",
    "            plt.imsave(save_dir+'%d.jpg'%i,image)\n",
    "            f.close()\n",
    "\n",
    "            \n"
   ]
  },
  {
   "cell_type": "code",
   "execution_count": 86,
   "metadata": {},
   "outputs": [],
   "source": []
  },
  {
   "cell_type": "code",
   "execution_count": 88,
   "metadata": {},
   "outputs": [
    {
     "data": {
      "text/plain": [
       "464"
      ]
     },
     "execution_count": 88,
     "metadata": {},
     "output_type": "execute_result"
    }
   ],
   "source": []
  }
 ],
 "metadata": {
  "kernelspec": {
   "display_name": "Python [conda env:tf-yolo]",
   "language": "python",
   "name": "conda-env-tf-yolo-py"
  },
  "language_info": {
   "codemirror_mode": {
    "name": "ipython",
    "version": 3
   },
   "file_extension": ".py",
   "mimetype": "text/x-python",
   "name": "python",
   "nbconvert_exporter": "python",
   "pygments_lexer": "ipython3",
   "version": "3.7.3"
  }
 },
 "nbformat": 4,
 "nbformat_minor": 2
}
