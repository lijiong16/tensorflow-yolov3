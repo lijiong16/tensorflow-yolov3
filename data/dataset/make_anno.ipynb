{
 "cells": [
  {
   "cell_type": "code",
   "execution_count": 4,
   "metadata": {},
   "outputs": [],
   "source": [
    "import os\n",
    "import sys\n",
    "import pdb\n",
    "p=pdb.set_trace"
   ]
  },
  {
   "cell_type": "code",
   "execution_count": 8,
   "metadata": {},
   "outputs": [],
   "source": [
    "if os.path.exists(\"low_test.txt\"):\n",
    "    os.remove(\"low_test.txt\")\n",
    "\n",
    "with open('coco_test.txt' , 'r') as ori:\n",
    "    with  open('low_test.txt' , 'a') as des:\n",
    "        for line in ori:\n",
    "            des.write('/home/ubuntu/PycharmProjects/RetinaNet/coco2017'+line[40:])"
   ]
  },
  {
   "cell_type": "code",
   "execution_count": 9,
   "metadata": {},
   "outputs": [],
   "source": [
    "if os.path.exists(\"low_train.txt\"):\n",
    "    os.remove(\"low_train.txt\")\n",
    "\n",
    "with open('coco_train.txt' , 'r') as ori:\n",
    "    with  open('low_train.txt' , 'a') as des:\n",
    "        for line in ori:\n",
    "            des.write('/home/ubuntu/PycharmProjects/RetinaNet/coco2017'+line[40:])"
   ]
  }
 ],
 "metadata": {
  "kernelspec": {
   "display_name": "Python [conda env:tf-yolo]",
   "language": "python",
   "name": "conda-env-tf-yolo-py"
  },
  "language_info": {
   "codemirror_mode": {
    "name": "ipython",
    "version": 3
   },
   "file_extension": ".py",
   "mimetype": "text/x-python",
   "name": "python",
   "nbconvert_exporter": "python",
   "pygments_lexer": "ipython3",
   "version": "3.7.3"
  }
 },
 "nbformat": 4,
 "nbformat_minor": 2
}
